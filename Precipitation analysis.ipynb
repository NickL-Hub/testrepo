{
    "cells": [
        {
            "cell_type": "markdown",
            "metadata": {},
            "source": "Description\n\nThis notebook analyzes and visualizes preciptation data"
        },
        {
            "cell_type": "code",
            "execution_count": 1,
            "metadata": {},
            "outputs": [
                {
                    "data": {
                        "text/html": "<div>\n<style scoped>\n    .dataframe tbody tr th:only-of-type {\n        vertical-align: middle;\n    }\n\n    .dataframe tbody tr th {\n        vertical-align: top;\n    }\n\n    .dataframe thead th {\n        text-align: right;\n    }\n</style>\n<table border=\"1\" class=\"dataframe\">\n  <thead>\n    <tr style=\"text-align: right;\">\n      <th></th>\n      <th>DateTime</th>\n      <th>LowestTemp</th>\n      <th>HighestTemp</th>\n      <th>AvgTemp</th>\n      <th>Sunshine_minutes</th>\n      <th>AvgWindSpeed</th>\n      <th>Highest10minWindAvg</th>\n      <th>Hojeste_vindstod</th>\n      <th>Rainmm</th>\n      <th>Humidity%</th>\n      <th>Date_adj</th>\n    </tr>\n  </thead>\n  <tbody>\n    <tr>\n      <th>0</th>\n      <td>2018-10-01 00:00:00</td>\n      <td>9.9</td>\n      <td>11.3</td>\n      <td>10.7</td>\n      <td>0.0</td>\n      <td>2.1</td>\n      <td>4.0</td>\n      <td>6.0</td>\n      <td>0.2</td>\n      <td>87.9</td>\n      <td>2018-10-01 00:00:00</td>\n    </tr>\n    <tr>\n      <th>1</th>\n      <td>2018-10-01 01:00:00</td>\n      <td>9.6</td>\n      <td>10.9</td>\n      <td>10.3</td>\n      <td>0.0</td>\n      <td>2.0</td>\n      <td>3.0</td>\n      <td>4.1</td>\n      <td>0.0</td>\n      <td>90.5</td>\n      <td>2018-10-01 01:00:00</td>\n    </tr>\n    <tr>\n      <th>2</th>\n      <td>2018-10-01 02:00:00</td>\n      <td>9.0</td>\n      <td>10.4</td>\n      <td>9.8</td>\n      <td>0.0</td>\n      <td>1.9</td>\n      <td>3.0</td>\n      <td>4.0</td>\n      <td>0.0</td>\n      <td>91.2</td>\n      <td>2018-10-01 02:00:00</td>\n    </tr>\n    <tr>\n      <th>3</th>\n      <td>2018-10-01 03:00:00</td>\n      <td>8.2</td>\n      <td>10.1</td>\n      <td>9.1</td>\n      <td>0.0</td>\n      <td>1.7</td>\n      <td>2.5</td>\n      <td>3.5</td>\n      <td>0.0</td>\n      <td>92.8</td>\n      <td>2018-10-01 03:00:00</td>\n    </tr>\n    <tr>\n      <th>4</th>\n      <td>2018-10-01 04:00:00</td>\n      <td>7.3</td>\n      <td>8.9</td>\n      <td>8.5</td>\n      <td>0.0</td>\n      <td>1.7</td>\n      <td>2.6</td>\n      <td>3.1</td>\n      <td>0.0</td>\n      <td>94.1</td>\n      <td>2018-10-01 04:00:00</td>\n    </tr>\n  </tbody>\n</table>\n</div>",
                        "text/plain": "              DateTime  LowestTemp  HighestTemp  AvgTemp  Sunshine_minutes  \\\n0  2018-10-01 00:00:00         9.9         11.3     10.7               0.0   \n1  2018-10-01 01:00:00         9.6         10.9     10.3               0.0   \n2  2018-10-01 02:00:00         9.0         10.4      9.8               0.0   \n3  2018-10-01 03:00:00         8.2         10.1      9.1               0.0   \n4  2018-10-01 04:00:00         7.3          8.9      8.5               0.0   \n\n   AvgWindSpeed  Highest10minWindAvg  Hojeste_vindstod  Rainmm  Humidity%  \\\n0           2.1                  4.0               6.0     0.2       87.9   \n1           2.0                  3.0               4.1     0.0       90.5   \n2           1.9                  3.0               4.0     0.0       91.2   \n3           1.7                  2.5               3.5     0.0       92.8   \n4           1.7                  2.6               3.1     0.0       94.1   \n\n              Date_adj  \n0  2018-10-01 00:00:00  \n1  2018-10-01 01:00:00  \n2  2018-10-01 02:00:00  \n3  2018-10-01 03:00:00  \n4  2018-10-01 04:00:00  "
                    },
                    "execution_count": 1,
                    "metadata": {},
                    "output_type": "execute_result"
                }
            ],
            "source": "# The code was removed by Watson Studio for sharing."
        },
        {
            "cell_type": "code",
            "execution_count": null,
            "metadata": {},
            "outputs": [],
            "source": ""
        }
    ],
    "metadata": {
        "kernelspec": {
            "display_name": "Python 3.6",
            "language": "python",
            "name": "python3"
        },
        "language_info": {
            "codemirror_mode": {
                "name": "ipython",
                "version": 3
            },
            "file_extension": ".py",
            "mimetype": "text/x-python",
            "name": "python",
            "nbconvert_exporter": "python",
            "pygments_lexer": "ipython3",
            "version": "3.6.9"
        }
    },
    "nbformat": 4,
    "nbformat_minor": 1
}